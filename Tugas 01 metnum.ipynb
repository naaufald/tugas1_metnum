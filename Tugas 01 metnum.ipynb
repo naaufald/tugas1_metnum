{
 "cells": [
  {
   "cell_type": "code",
   "execution_count": 2,
   "metadata": {},
   "outputs": [
    {
     "data": {
      "text/html": [
       "<div>\n",
       "<style scoped>\n",
       "    .dataframe tbody tr th:only-of-type {\n",
       "        vertical-align: middle;\n",
       "    }\n",
       "\n",
       "    .dataframe tbody tr th {\n",
       "        vertical-align: top;\n",
       "    }\n",
       "\n",
       "    .dataframe thead th {\n",
       "        text-align: right;\n",
       "    }\n",
       "</style>\n",
       "<table border=\"1\" class=\"dataframe\">\n",
       "  <thead>\n",
       "    <tr style=\"text-align: right;\">\n",
       "      <th></th>\n",
       "      <th>Variabel_A</th>\n",
       "      <th>Variabel_B</th>\n",
       "    </tr>\n",
       "  </thead>\n",
       "  <tbody>\n",
       "    <tr>\n",
       "      <th>0</th>\n",
       "      <td>13745.401188</td>\n",
       "      <td>0.000128</td>\n",
       "    </tr>\n",
       "    <tr>\n",
       "      <th>1</th>\n",
       "      <td>19507.143064</td>\n",
       "      <td>0.000673</td>\n",
       "    </tr>\n",
       "    <tr>\n",
       "      <th>2</th>\n",
       "      <td>17319.939418</td>\n",
       "      <td>0.000383</td>\n",
       "    </tr>\n",
       "    <tr>\n",
       "      <th>3</th>\n",
       "      <td>15986.584842</td>\n",
       "      <td>0.000558</td>\n",
       "    </tr>\n",
       "    <tr>\n",
       "      <th>4</th>\n",
       "      <td>11560.186404</td>\n",
       "      <td>0.000917</td>\n",
       "    </tr>\n",
       "    <tr>\n",
       "      <th>...</th>\n",
       "      <td>...</td>\n",
       "      <td>...</td>\n",
       "    </tr>\n",
       "    <tr>\n",
       "      <th>95</th>\n",
       "      <td>14937.955964</td>\n",
       "      <td>0.000414</td>\n",
       "    </tr>\n",
       "    <tr>\n",
       "      <th>96</th>\n",
       "      <td>15227.328294</td>\n",
       "      <td>0.000753</td>\n",
       "    </tr>\n",
       "    <tr>\n",
       "      <th>97</th>\n",
       "      <td>14275.410184</td>\n",
       "      <td>0.000907</td>\n",
       "    </tr>\n",
       "    <tr>\n",
       "      <th>98</th>\n",
       "      <td>10254.191267</td>\n",
       "      <td>0.000898</td>\n",
       "    </tr>\n",
       "    <tr>\n",
       "      <th>99</th>\n",
       "      <td>11078.914270</td>\n",
       "      <td>0.000802</td>\n",
       "    </tr>\n",
       "  </tbody>\n",
       "</table>\n",
       "<p>100 rows × 2 columns</p>\n",
       "</div>"
      ],
      "text/plain": [
       "      Variabel_A  Variabel_B\n",
       "0   13745.401188    0.000128\n",
       "1   19507.143064    0.000673\n",
       "2   17319.939418    0.000383\n",
       "3   15986.584842    0.000558\n",
       "4   11560.186404    0.000917\n",
       "..           ...         ...\n",
       "95  14937.955964    0.000414\n",
       "96  15227.328294    0.000753\n",
       "97  14275.410184    0.000907\n",
       "98  10254.191267    0.000898\n",
       "99  11078.914270    0.000802\n",
       "\n",
       "[100 rows x 2 columns]"
      ]
     },
     "execution_count": 2,
     "metadata": {},
     "output_type": "execute_result"
    }
   ],
   "source": [
    "import numpy as np\n",
    "import pandas as pd\n",
    "\n",
    "# Membuat dataset dengan 100 data dan 2 variabel\n",
    "np.random.seed(42)\n",
    "data = {\n",
    "    'Variabel_A': np.random.uniform(10000, 20000, 100),\n",
    "    'Variabel_B': np.random.uniform(0.0001, 0.001, 100)\n",
    "}\n",
    "\n",
    "df = pd.DataFrame(data)\n",
    "df"
   ]
  },
  {
   "cell_type": "code",
   "execution_count": null,
   "metadata": {},
   "outputs": [],
   "source": [
    "def calculate_statistics(df, dtype):\n",
    "    df = df.astype(dtype)\n",
    "    mean = df.mean()\n",
    "    variance = df.var()\n",
    "    correlation = df.corr()\n",
    "    return mean, variance, correlation\n",
    "\n",
    "mean32, var32, corr32 = calculate_statistics(df, np.float32)\n",
    "mean64, var64, corr64 = calculate_statistics(df, np.float64)"
   ]
  },
  {
   "cell_type": "code",
   "execution_count": 10,
   "metadata": {},
   "outputs": [
    {
     "name": "stdout",
     "output_type": "stream",
     "text": [
      "Hasil Statistik dengan float32:\n",
      "Metric              Variabel_A     Variabel_B\n",
      "Mean              14701.808594       0.000548\n",
      "Varians           8.849995e+06   6.959051e-08\n",
      "Korelasi:\n",
      "            Variabel_A  Variabel_B\n",
      "Variabel_A    1.000000   -0.034033\n",
      "Variabel_B   -0.034033    1.000000\n"
     ]
    }
   ],
   "source": [
    "print(\"Hasil Statistik dengan float32:\")\n",
    "print(f\"{'Metric':<15}{'Variabel_A':>15}{'Variabel_B':>15}\")\n",
    "print(f\"{'Mean':<15}{mean32['Variabel_A']:>15.6f}{mean32['Variabel_B']:>15.6f}\")\n",
    "print(f\"{'Varians':<15}{var32['Variabel_A']:>15.6e}{var32['Variabel_B']:>15.6e}\")\n",
    "print(\"Korelasi:\")\n",
    "print(corr32.to_string(float_format=\"{:.6f}\".format))"
   ]
  },
  {
   "cell_type": "code",
   "execution_count": 22,
   "metadata": {},
   "outputs": [
    {
     "name": "stdout",
     "output_type": "stream",
     "text": [
      "Hasil Statistik dengan float64:\n",
      "Metric              Variabel_A     Variabel_B\n",
      "Mean              14701.807434       0.000548\n",
      "Varians           8.849995e+06   6.959051e-08\n",
      "Korelasi:\n",
      "            Variabel_A  Variabel_B\n",
      "Variabel_A    1.000000   -0.034033\n",
      "Variabel_B   -0.034033    1.000000\n"
     ]
    }
   ],
   "source": [
    "print(\"Hasil Statistik dengan float64:\")\n",
    "print(f\"{'Metric':<15}{'Variabel_A':>15}{'Variabel_B':>15}\")\n",
    "print(f\"{'Mean':<15}{mean64['Variabel_A']:>15.6f}{mean64['Variabel_B']:>15.6f}\")\n",
    "print(f\"{'Varians':<15}{var64['Variabel_A']:>15.6e}{var64['Variabel_B']:>15.6e}\")\n",
    "print(\"Korelasi:\")\n",
    "print(corr64.to_string(float_format=\"{:.6f}\".format))"
   ]
  },
  {
   "cell_type": "code",
   "execution_count": 13,
   "metadata": {},
   "outputs": [
    {
     "name": "stdout",
     "output_type": "stream",
     "text": [
      "\n",
      "Perbedaan Hasil Mean:\n",
      "Variabel_A   -1.159968e-03\n",
      "Variabel_B    2.385954e-11\n",
      "dtype: float64\n",
      "\n",
      "Perbedaan Hasil Varians:\n",
      "Variabel_A   -3.337585e-02\n",
      "Variabel_B    1.341926e-15\n",
      "dtype: float64\n",
      "\n",
      "Perbedaan Hasil Korelasi:\n",
      "              Variabel_A    Variabel_B\n",
      "Variabel_A  0.000000e+00  5.137279e-09\n",
      "Variabel_B  5.137279e-09  0.000000e+00\n"
     ]
    }
   ],
   "source": [
    "print(\"\\nPerbedaan Hasil Mean:\")\n",
    "print(mean64 - mean32\n",
    "print(\"\\nPerbedaan Hasil Varians:\")\n",
    "print(var64 - var32)\n",
    "print(\"\\nPerbedaan Hasil Korelasi:\")\n",
    "print(corr64 - corr32)"
   ]
  },
  {
   "cell_type": "markdown",
   "metadata": {},
   "source": [
    "## Stabilisasi Numerik"
   ]
  },
  {
   "cell_type": "code",
   "execution_count": 14,
   "metadata": {},
   "outputs": [],
   "source": [
    "# 3. Implementasi Kahan Summation\n",
    "def kahan_sum(numbers):\n",
    "    total = 0.0\n",
    "    compensation = 0.0  \n",
    "    for num in numbers:\n",
    "        y = num - compensation\n",
    "        t = total + y\n",
    "        compensation = (t - total) - y\n",
    "        total = t\n",
    "    return total  \n",
    "\n",
    "sum_normal = np.sum(df['Variabel_B'])\n",
    "sum_kahan = kahan_sum(df['Variabel_B'])\n"
   ]
  },
  {
   "cell_type": "code",
   "execution_count": 16,
   "metadata": {},
   "outputs": [
    {
     "name": "stdout",
     "output_type": "stream",
     "text": [
      "\n",
      "Perbedaan Hasil Penjumlahan Biasa vs Kahan Summation:\n",
      "0.054804855083952074\n",
      "0.05480485508395206\n"
     ]
    }
   ],
   "source": [
    "print(\"\\nPerbedaan Hasil Penjumlahan Biasa vs Kahan Summation:\")\n",
    "print(sum_normal)\n",
    "print(sum_kahan)"
   ]
  },
  {
   "cell_type": "code",
   "execution_count": 17,
   "metadata": {},
   "outputs": [],
   "source": [
    "# 4. Normalisasi Z-Score dan Analisis\n",
    "z_score_df = (df - df.mean()) / df.std()\n",
    "mean_z, var_z, corr_z = calculate_statistics(z_score_df, np.float64)"
   ]
  },
  {
   "cell_type": "code",
   "execution_count": 18,
   "metadata": {},
   "outputs": [
    {
     "name": "stdout",
     "output_type": "stream",
     "text": [
      "\n",
      "Statistik setelah Normalisasi Z-Score:\n",
      "Mean:\n",
      "Variabel_A   -0.000000\n",
      "Variabel_B   -0.000000\n",
      "Varians:\n",
      "Variabel_A   1.000000e+00\n",
      "Variabel_B   1.000000e+00\n",
      "Korelasi:\n",
      "            Variabel_A  Variabel_B\n",
      "Variabel_A    1.000000   -0.034033\n",
      "Variabel_B   -0.034033    1.000000\n"
     ]
    }
   ],
   "source": [
    "print(\"\\nStatistik setelah Normalisasi Z-Score:\")\n",
    "print(\"Mean:\")\n",
    "print(mean_z.to_string(float_format=\"{:.6f}\".format))\n",
    "print(\"Varians:\")\n",
    "print(var_z.to_string(float_format=\"{:.6e}\".format))\n",
    "print(\"Korelasi:\")\n",
    "print(corr_z.to_string(float_format=\"{:.6f}\".format))"
   ]
  }
 ],
 "metadata": {
  "kernelspec": {
   "display_name": "Python 3",
   "language": "python",
   "name": "python3"
  },
  "language_info": {
   "codemirror_mode": {
    "name": "ipython",
    "version": 3
   },
   "file_extension": ".py",
   "mimetype": "text/x-python",
   "name": "python",
   "nbconvert_exporter": "python",
   "pygments_lexer": "ipython3",
   "version": "3.12.5"
  }
 },
 "nbformat": 4,
 "nbformat_minor": 2
}
